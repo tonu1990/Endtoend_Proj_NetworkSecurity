{
 "cells": [
  {
   "cell_type": "code",
   "execution_count": 1,
   "id": "6bf57d46",
   "metadata": {},
   "outputs": [],
   "source": [
    "import sys\n",
    "from networksecurity.my_logging import my_logger\n",
    "\n",
    "class NetworkSecurityException(Exception):\n",
    "    def __init__(self,error_message,error_details:sys):\n",
    "        self.error_message = error_message\n",
    "        _,_,exc_tb = error_details.exc_info()\n",
    "        \n",
    "        self.lineno=exc_tb.tb_lineno\n",
    "        self.file_name=exc_tb.tb_frame.f_code.co_filename \n",
    "    \n",
    "    def __str__(self):\n",
    "        text =  \"Error occured in python script name [{0}] line number [{1}] error message [{2}]\".format(\n",
    "        self.file_name, self.lineno, str(self.error_message))\n",
    "        my_logger.logging.error(text)\n",
    "\n",
    "        return text\n",
    "\n",
    "    "
   ]
  },
  {
   "cell_type": "code",
   "execution_count": 9,
   "id": "30df26c3",
   "metadata": {},
   "outputs": [
    {
     "name": "stdout",
     "output_type": "stream",
     "text": [
      "ZeroDivisionError\n",
      "division by zero\n",
      "('division by zero',)\n",
      "<class 'ZeroDivisionError'> division by zero <traceback object at 0x00000129876BE380>\n",
      "file name :  C:\\Users\\EDIFY\\AppData\\Local\\Temp\\ipykernel_18992\\1411549629.py\n",
      "function name :  <module>\n",
      "Line number:  6\n",
      "Traceback (most recent call last):\n",
      "  File \"C:\\Users\\EDIFY\\AppData\\Local\\Temp\\ipykernel_18992\\1411549629.py\", line 6, in <module>\n",
      "    a=1/0\n",
      "ZeroDivisionError: division by zero\n",
      "\n"
     ]
    }
   ],
   "source": [
    "import sys\n",
    "import traceback\n",
    "\n",
    "try:\n",
    "        my_logger.logging.info(\"Enter the try block\")\n",
    "        a=1/0\n",
    "        print(\"This will not be printed\",a)\n",
    "except Exception as e: \n",
    "        exception_type = type(e).__name__      # \"ValueError\", \"KeyError\", etc.\n",
    "        exception_message = str(e)             # The error message\n",
    "        exception_args = e.args          \n",
    "\n",
    "        print(exception_type)\n",
    "        print(exception_message)\n",
    "        print(exception_args)\n",
    "\n",
    "        #trace back information\n",
    "        exc_type, exc_value, exc_traceback = sys.exc_info()\n",
    "    \n",
    "        # Full traceback as string (VERY useful for logging)\n",
    "        full_traceback = traceback.format_exc()\n",
    "        \n",
    "        # Extract specific details\n",
    "        tb = exc_traceback\n",
    "        filename = tb.tb_frame.f_code.co_filename    # Which file\n",
    "        function_name = tb.tb_frame.f_code.co_name   # Which function  \n",
    "        line_number = tb.tb_lineno  \n",
    "\n",
    "        print(exc_type, exc_value, exc_traceback)\n",
    "        print(\"file name : \", filename)\n",
    "        print(\"function name : \",function_name)\n",
    "        print(\"Line number: \", line_number)\n",
    "\n",
    "        print(full_traceback)\n",
    "\n",
    "        #raise NetworkSecurityException(e,sys)"
   ]
  },
  {
   "cell_type": "code",
   "execution_count": 5,
   "id": "5f55304e",
   "metadata": {},
   "outputs": [
    {
     "data": {
      "text/plain": [
       "(None, None, None)"
      ]
     },
     "execution_count": 5,
     "metadata": {},
     "output_type": "execute_result"
    }
   ],
   "source": [
    "sys.exc_info()\n"
   ]
  }
 ],
 "metadata": {
  "kernelspec": {
   "display_name": "venv",
   "language": "python",
   "name": "python3"
  },
  "language_info": {
   "codemirror_mode": {
    "name": "ipython",
    "version": 3
   },
   "file_extension": ".py",
   "mimetype": "text/x-python",
   "name": "python",
   "nbconvert_exporter": "python",
   "pygments_lexer": "ipython3",
   "version": "3.10.18"
  }
 },
 "nbformat": 4,
 "nbformat_minor": 5
}

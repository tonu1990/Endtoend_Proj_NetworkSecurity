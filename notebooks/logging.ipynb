{
 "cells": [
  {
   "cell_type": "code",
   "execution_count": 1,
   "id": "2456d334",
   "metadata": {},
   "outputs": [],
   "source": [
    "import logging\n",
    "import os\n",
    "from datetime import datetime "
   ]
  },
  {
   "cell_type": "code",
   "execution_count": 3,
   "id": "c4f64681",
   "metadata": {},
   "outputs": [
    {
     "name": "stdout",
     "output_type": "stream",
     "text": [
      "2025_07_28__11Hr_25m_18s.log\n",
      "c:\\Users\\EDIFY\\Desktop\\Self_Learning_2025\\Udemy\\End-to-End MLOps\\Section19_EndtoEndProject_NetworkSecurity\\notebooks\\Logs\\2025_07_28__11Hr_25m_18s.log\n"
     ]
    }
   ],
   "source": [
    "# create Log file name format\n",
    "\n",
    "LOG_FILE_NAME = f\"{datetime.now().strftime('%Y_%m_%d__%HHr_%Mm_%Ss')}.log\"\n",
    "print(LOG_FILE_NAME)\n",
    "\n",
    "# Create the log file save location \n",
    "log_dir_path = os.path.join(os.getcwd(), \"Logs\")\n",
    "os.makedirs(log_dir_path, exist_ok=True)\n",
    "\n",
    "LOG_FILE_PATH = os.path.join(log_dir_path, LOG_FILE_NAME)  # Complete file path\n",
    "print(LOG_FILE_PATH)"
   ]
  },
  {
   "cell_type": "code",
   "execution_count": 4,
   "id": "6c32bd6f",
   "metadata": {},
   "outputs": [],
   "source": [
    "\n",
    "logging.basicConfig(\n",
    "    filename= LOG_FILE_PATH,\n",
    "    level=logging.INFO,\n",
    "    format=\"[ %(asctime)s ] %(lineno)d %(name)s - %(levelname)s - %(message)s\",\n",
    " \n",
    ")"
   ]
  }
 ],
 "metadata": {
  "kernelspec": {
   "display_name": "venv",
   "language": "python",
   "name": "python3"
  },
  "language_info": {
   "codemirror_mode": {
    "name": "ipython",
    "version": 3
   },
   "file_extension": ".py",
   "mimetype": "text/x-python",
   "name": "python",
   "nbconvert_exporter": "python",
   "pygments_lexer": "ipython3",
   "version": "3.10.18"
  }
 },
 "nbformat": 4,
 "nbformat_minor": 5
}
